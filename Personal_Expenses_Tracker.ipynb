{
 "cells": [
  {
   "cell_type": "markdown",
   "id": "8796fe9c-5d04-4c91-8bdd-bd94b6e432ba",
   "metadata": {},
   "source": [
    "# Personal Expenses Tracker"
   ]
  },
  {
   "cell_type": "markdown",
   "id": "3eca7eb4-fc62-4b1b-94fb-3517fef8759f",
   "metadata": {},
   "source": [
    "## What are we tracking?"
   ]
  },
  {
   "cell_type": "markdown",
   "id": "b4ad675f-87c8-4d15-96ad-82bb978643ad",
   "metadata": {},
   "source": [
    "### Create Variables"
   ]
  },
  {
   "cell_type": "code",
   "execution_count": 14,
   "id": "6865e30c-3535-457a-a9d0-910063336849",
   "metadata": {},
   "outputs": [],
   "source": [
    "user = \"William\" # str\n",
    "current_month = 'August 2025' # str\n",
    "currency = '$' # str\n",
    "budget = 500.00 # float\n",
    "num_days_in_month = 31 # int\n",
    "is_budget_set = True # bool"
   ]
  },
  {
   "cell_type": "code",
   "execution_count": 15,
   "id": "508f29c0-3152-4e65-b893-a3729fbbd2b2",
   "metadata": {},
   "outputs": [
    {
     "name": "stdout",
     "output_type": "stream",
     "text": [
      "Hello William\n"
     ]
    }
   ],
   "source": [
    "print('Hello', user)"
   ]
  },
  {
   "cell_type": "code",
   "execution_count": 16,
   "id": "31a2acab-6fa4-4556-8b64-0ed0010c92dd",
   "metadata": {},
   "outputs": [
    {
     "name": "stdout",
     "output_type": "stream",
     "text": [
      "August 2025\n",
      "$\n",
      "William\n"
     ]
    }
   ],
   "source": [
    "print(current_month)\n",
    "print(currency)\n",
    "print(user)"
   ]
  },
  {
   "cell_type": "code",
   "execution_count": 17,
   "id": "ce873fc9-8303-4b98-b9fc-c9805d7787a4",
   "metadata": {},
   "outputs": [
    {
     "name": "stdout",
     "output_type": "stream",
     "text": [
      "Budget for August 2025 : 500.0\n"
     ]
    }
   ],
   "source": [
    "print('Budget for', current_month, ':', budget)"
   ]
  },
  {
   "cell_type": "markdown",
   "id": "7fbdcdd7-5325-4dff-82c9-8195e1b22c02",
   "metadata": {},
   "source": [
    "### A single expense"
   ]
  },
  {
   "cell_type": "code",
   "execution_count": 20,
   "id": "70998c16-322e-4f91-9b07-d19c92232847",
   "metadata": {},
   "outputs": [],
   "source": [
    "item = 'rent'\n",
    "amount = 200.00\n",
    "category = 'Housing'\n",
    "is_necessary = True\n",
    "\n",
    "items = ['Rent', 'Electricity', 'Clothes', 'Data Bundle', 'KFC', 'Netflix']\n",
    "prices = [200.00, 40.00, 50.00, 20.00, 10.00, 15.00]\n",
    "categories = ['Housing', 'Utility', 'Basic', 'Utility', 'Food', 'Entertainment']\n",
    "necessary = [True, True, True, True, False, False]\n",
    "total_expenses = sum(prices)\n",
    "num_of_items = len(prices)"
   ]
  },
  {
   "cell_type": "code",
   "execution_count": 57,
   "id": "68d71bba-709c-46bd-aa21-32d81dd8be1f",
   "metadata": {},
   "outputs": [],
   "source": [
    "closing_balance = budget - amount\n",
    "balance = budget - total_expenses"
   ]
  },
  {
   "cell_type": "code",
   "execution_count": 64,
   "id": "833e0ccb-5322-43cf-81fe-2db50f8cb9aa",
   "metadata": {},
   "outputs": [
    {
     "name": "stdout",
     "output_type": "stream",
     "text": [
      "===================================\n",
      "      Expenses Tracker\n",
      "===================================\n",
      "Owner                William\n",
      "Period               August 2025\n",
      "-----------------------------------\n",
      "Currency             $\n",
      "Starting balance     500.0\n",
      "Total expenses       335.0\n",
      "-----------------------------------\n",
      "Closing balance      165.0\n",
      "Transactions         6\n",
      "===================================\n",
      "       See you next time\n"
     ]
    }
   ],
   "source": [
    "print(\"=\" * 35)\n",
    "print(\"      Expenses Tracker\")\n",
    "print(\"=\" * 35)\n",
    "print(\"Owner \", \"             \", user)\n",
    "print(\"Period \", \"            \", current_month)\n",
    "print('-' * 35)\n",
    "print(\"Currency \", \"          \", currency)\n",
    "print(\"Starting balance \", \"  \", budget)\n",
    "print(\"Total expenses \", \"    \", total_expenses)\n",
    "print('-' * 35)\n",
    "print(\"Closing balance \", \"   \", balance)\n",
    "print(\"Transactions\", \"       \", num_of_items)\n",
    "print('=' * 35)\n",
    "print('       See you next time')"
   ]
  },
  {
   "cell_type": "code",
   "execution_count": 53,
   "id": "e1abe373-e6ef-4860-85a1-29c48f543e55",
   "metadata": {},
   "outputs": [],
   "source": []
  },
  {
   "cell_type": "code",
   "execution_count": 59,
   "id": "8f87d5bf-429f-4cd6-a429-a30ec1c0b72b",
   "metadata": {},
   "outputs": [],
   "source": []
  },
  {
   "cell_type": "code",
   "execution_count": null,
   "id": "9ec3b042-0d51-4bb5-a8b2-bdc251414be0",
   "metadata": {},
   "outputs": [],
   "source": []
  },
  {
   "cell_type": "code",
   "execution_count": null,
   "id": "52797d37-80dd-4ac5-8597-3a69575a9cc9",
   "metadata": {},
   "outputs": [],
   "source": []
  },
  {
   "cell_type": "code",
   "execution_count": null,
   "id": "860dd49d-2144-4446-84b2-889ed2a4d801",
   "metadata": {},
   "outputs": [],
   "source": []
  },
  {
   "cell_type": "code",
   "execution_count": null,
   "id": "d49e2b25-b92b-4942-ac51-67e52377dfdd",
   "metadata": {},
   "outputs": [],
   "source": []
  },
  {
   "cell_type": "code",
   "execution_count": null,
   "id": "f5d2b5b4-1b18-4e86-8d52-bc314806d4d2",
   "metadata": {},
   "outputs": [],
   "source": []
  },
  {
   "cell_type": "code",
   "execution_count": null,
   "id": "6146e222-c354-41c0-b7ec-d536548b451c",
   "metadata": {},
   "outputs": [],
   "source": []
  },
  {
   "cell_type": "code",
   "execution_count": null,
   "id": "369f3ba0-2619-40c8-8ad1-4bd9db481e15",
   "metadata": {},
   "outputs": [],
   "source": []
  },
  {
   "cell_type": "code",
   "execution_count": null,
   "id": "0949668c-127b-47c3-bfb9-15bceece24ab",
   "metadata": {},
   "outputs": [],
   "source": []
  },
  {
   "cell_type": "code",
   "execution_count": null,
   "id": "c154f076-4c16-459b-9984-524c81d213a5",
   "metadata": {},
   "outputs": [],
   "source": []
  },
  {
   "cell_type": "code",
   "execution_count": null,
   "id": "cfdd012a-6fdd-4b03-a0dd-06b32eba83b1",
   "metadata": {},
   "outputs": [],
   "source": []
  }
 ],
 "metadata": {
  "kernelspec": {
   "display_name": "Python 3 (ipykernel)",
   "language": "python",
   "name": "python3"
  },
  "language_info": {
   "codemirror_mode": {
    "name": "ipython",
    "version": 3
   },
   "file_extension": ".py",
   "mimetype": "text/x-python",
   "name": "python",
   "nbconvert_exporter": "python",
   "pygments_lexer": "ipython3",
   "version": "3.11.13"
  }
 },
 "nbformat": 4,
 "nbformat_minor": 5
}
